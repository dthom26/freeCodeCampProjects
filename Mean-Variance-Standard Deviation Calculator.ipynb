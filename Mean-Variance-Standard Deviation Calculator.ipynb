{
 "cells": [
  {
   "cell_type": "code",
   "execution_count": 23,
   "id": "e484e248",
   "metadata": {},
   "outputs": [],
   "source": [
    "import numpy as np\n",
    "\n",
    "def calculate(list):\n",
    "    if len(list) != 9:\n",
    "        raise ValueError(\"List must contain nine numbers.\")\n",
    "    \n",
    "    \n",
    "    ls = np.array(list).reshape((3,3))\n",
    "    \n",
    "    calculations = {}\n",
    "    \n",
    "    calculations['mean'] = [ls.mean(axis = 0).tolist(),ls.mean(axis = 1).tolist(),np.mean(ls).tolist()],\n",
    "    calculations['variance'] = [ls.var(axis = 0).tolist(),ls.var(axis = 1).tolist(),np.var(ls).tolist()],\n",
    "    calculations['standard deviation'] = [ls.std(axis = 0).tolist(),ls.std(axis = 1).tolist(),np.std(ls).tolist()],\n",
    "    calculations['max'] = [ls.max(axis = 0).tolist(),ls.max(axis = 1).tolist(),np.max(ls).tolist()],\n",
    "    calculations['min'] = [ls.min(axis = 0).tolist(),ls.min(axis = 1).tolist(),np.min(ls).tolist()],\n",
    "    calculations['sum'] = [ls.sum(axis = 0).tolist(),ls.sum(axis = 1).tolist(),np.sum(ls).tolist()],\n",
    "\n",
    "\n",
    "    \n",
    "\n",
    "\n",
    "\n",
    "\n",
    "    return calculations"
   ]
  },
  {
   "cell_type": "code",
   "execution_count": 24,
   "id": "5e973f77",
   "metadata": {},
   "outputs": [
    {
     "name": "stdout",
     "output_type": "stream",
     "text": [
      "{'mean': ([[3.0, 4.0, 5.0], [1.0, 4.0, 7.0], 4.0],), 'variance': ([[6.0, 6.0, 6.0], [0.6666666666666666, 0.6666666666666666, 0.6666666666666666], 6.666666666666667],), 'standard deviation': ([[2.449489742783178, 2.449489742783178, 2.449489742783178], [0.816496580927726, 0.816496580927726, 0.816496580927726], 2.581988897471611],), 'max': ([[6, 7, 8], [2, 5, 8], 8],), 'min': ([[0, 1, 2], [0, 3, 6], 0],), 'sum': ([[9, 12, 15], [3, 12, 21], 36],)}\n"
     ]
    }
   ],
   "source": [
    "print(calculate([0,1,2,3,4,5,6,7,8]))"
   ]
  }
 ],
 "metadata": {
  "kernelspec": {
   "display_name": "Python 3 (ipykernel)",
   "language": "python",
   "name": "python3"
  },
  "language_info": {
   "codemirror_mode": {
    "name": "ipython",
    "version": 3
   },
   "file_extension": ".py",
   "mimetype": "text/x-python",
   "name": "python",
   "nbconvert_exporter": "python",
   "pygments_lexer": "ipython3",
   "version": "3.11.7"
  }
 },
 "nbformat": 4,
 "nbformat_minor": 5
}
